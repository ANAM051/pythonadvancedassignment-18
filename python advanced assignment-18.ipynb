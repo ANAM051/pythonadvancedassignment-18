{
 "cells": [
  {
   "cell_type": "markdown",
   "id": "1ca4a222",
   "metadata": {},
   "source": [
    "Q1. Describe the differences between text and binary files in a single paragraph.\n",
    "\n",
    "Q2. What are some scenarios where using text files will be the better option? When would you like to\n",
    "use binary files instead of text files?\n",
    "\n",
    "Q3. What are some of the issues with using binary operations to read and write a Python integer\n",
    "directly to disc?\n",
    "\n",
    "Q4. Describe a benefit of using the with keyword instead of explicitly opening a file.\n",
    "\n",
    "Q5. Does Python have the trailing newline while reading a line of text? Does Python append a\n",
    "newline when you write a line of text?\n",
    "\n",
    "Q6. What file operations enable for random-access operation?\n",
    "\n",
    "Q7. When do you think you&#39;ll use the struct package the most?\n",
    "\n",
    "Q8. When is pickling the best option?\n",
    "\n",
    "Q9. When will it be best to use the shelve package?\n",
    "\n",
    "Q10. What is a special restriction when using the shelve package, as opposed to using other data\n",
    "dictionaries?"
   ]
  },
  {
   "cell_type": "markdown",
   "id": "826143b5",
   "metadata": {},
   "source": [
    "1.Text files are special subset of binary files that are used to store human readable characters as a rich text document or plain text document. Text files also store data in sequential bytes but bits in text file represents characters.\n",
    "\n",
    "Binary files are those typical files that store data in the form of sequence of bytes grouped into eight bits or sometimes sixteen bits. These bits represent custom data and such files can store multiple types of data (images, audio, text, etc) under a single file."
   ]
  },
  {
   "cell_type": "markdown",
   "id": "df7e5dfa",
   "metadata": {},
   "source": [
    "2.Text files are less prone to get corrupted as any undesired change may just show up once the file is opened and then can easily be removed. Whereas Use binary files instead of text files for image data."
   ]
  },
  {
   "cell_type": "markdown",
   "id": "ce86b9f4",
   "metadata": {},
   "source": [
    "3.\n",
    "i.Binary operations deal with raw data\n",
    "ii.One needs to identify how many bytes one would read or write."
   ]
  },
  {
   "cell_type": "markdown",
   "id": "918b2804",
   "metadata": {},
   "source": [
    "4.When a file is opened using the with keyword, if some exceptions occur after opening a file, or at the end of the file it automatically does the closing of the file. There by not leaving an file in open mode and there would no need to explicitly close a file."
   ]
  },
  {
   "cell_type": "markdown",
   "id": "553644ac",
   "metadata": {},
   "source": [
    "5. Yes, Python have the trailing newline while reading a line of text. When we write a newline has to be provided in python excpicitly"
   ]
  },
  {
   "cell_type": "markdown",
   "id": "50b6303f",
   "metadata": {},
   "source": [
    "6.The file operations enable for random-access operation are seek() and tell()"
   ]
  },
  {
   "cell_type": "markdown",
   "id": "1dcff23b",
   "metadata": {},
   "source": [
    "7.The struct package is mostly used while converting a common python types into C language types"
   ]
  },
  {
   "cell_type": "markdown",
   "id": "cce49e89",
   "metadata": {},
   "source": [
    "8.Pickling is best option for creating a new binary file using python."
   ]
  },
  {
   "cell_type": "markdown",
   "id": "8d41d593",
   "metadata": {},
   "source": [
    "9.Shelve package is used to pickle data but treats the entire file as dictionary."
   ]
  },
  {
   "cell_type": "markdown",
   "id": "14534d5f",
   "metadata": {},
   "source": [
    "10.Only string data type can be used as key in this special dictionary object, whereas any picklable Python object can be used as value."
   ]
  }
 ],
 "metadata": {
  "kernelspec": {
   "display_name": "Python 3 (ipykernel)",
   "language": "python",
   "name": "python3"
  },
  "language_info": {
   "codemirror_mode": {
    "name": "ipython",
    "version": 3
   },
   "file_extension": ".py",
   "mimetype": "text/x-python",
   "name": "python",
   "nbconvert_exporter": "python",
   "pygments_lexer": "ipython3",
   "version": "3.9.12"
  }
 },
 "nbformat": 4,
 "nbformat_minor": 5
}
